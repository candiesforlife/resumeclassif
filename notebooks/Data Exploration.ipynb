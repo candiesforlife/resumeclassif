{
 "cells": [
  {
   "cell_type": "code",
   "execution_count": 2,
   "id": "comparative-parking",
   "metadata": {
    "ExecuteTime": {
     "end_time": "2021-03-18T15:08:46.739067Z",
     "start_time": "2021-03-18T15:08:46.730182Z"
    }
   },
   "outputs": [],
   "source": [
    "import pandas as pd"
   ]
  },
  {
   "cell_type": "code",
   "execution_count": 7,
   "id": "fabulous-terrain",
   "metadata": {
    "ExecuteTime": {
     "end_time": "2021-03-18T15:09:42.769805Z",
     "start_time": "2021-03-18T15:09:42.086303Z"
    }
   },
   "outputs": [
    {
     "data": {
      "text/html": [
       "<div>\n",
       "<style scoped>\n",
       "    .dataframe tbody tr th:only-of-type {\n",
       "        vertical-align: middle;\n",
       "    }\n",
       "\n",
       "    .dataframe tbody tr th {\n",
       "        vertical-align: top;\n",
       "    }\n",
       "\n",
       "    .dataframe thead th {\n",
       "        text-align: right;\n",
       "    }\n",
       "</style>\n",
       "<table border=\"1\" class=\"dataframe\">\n",
       "  <thead>\n",
       "    <tr style=\"text-align: right;\">\n",
       "      <th></th>\n",
       "      <th>Resume_title</th>\n",
       "      <th>City</th>\n",
       "      <th>State</th>\n",
       "      <th>Description</th>\n",
       "      <th>work_experiences</th>\n",
       "      <th>Educations</th>\n",
       "      <th>Skills</th>\n",
       "      <th>Links</th>\n",
       "      <th>Certificates</th>\n",
       "      <th>Additional Information</th>\n",
       "    </tr>\n",
       "  </thead>\n",
       "  <tbody>\n",
       "    <tr>\n",
       "      <th>0</th>\n",
       "      <td>Java Developer</td>\n",
       "      <td>Tirur</td>\n",
       "      <td>Kerala</td>\n",
       "      <td>To prove myself dedicated, worthy and energeti...</td>\n",
       "      <td>{0: [{'wtitle:': 'Java Developer'}, {'wcompany...</td>\n",
       "      <td>{0: [{'e_title:': \"Bachelor's in Bachelor of C...</td>\n",
       "      <td>['Java (Less than 1 year)', ' Jsp (Less than 1...</td>\n",
       "      <td>['https://www.linkedin.com/in/mohamed-rihan-k-...</td>\n",
       "      <td>{0: [{'c_title:': 'Java Developer'}, {'c_durat...</td>\n",
       "      <td>\\nTechnical Expertise \\n• Operating Systems: W...</td>\n",
       "    </tr>\n",
       "    <tr>\n",
       "      <th>1</th>\n",
       "      <td>Software Developer</td>\n",
       "      <td>Bengaluru</td>\n",
       "      <td>Karnataka</td>\n",
       "      <td>Working as Software Developer at IngroInfo Sof...</td>\n",
       "      <td>{0: [{'wtitle:': 'JAVA DEVELOPER'}, {'wcompany...</td>\n",
       "      <td>{0: [{'e_title:': 'MCA in Master of Computer A...</td>\n",
       "      <td>['Programming Languages: Core Java', ' J2EE \\n...</td>\n",
       "      <td>['http://github.com/NK-PATEL/Train_Project', '...</td>\n",
       "      <td>{}</td>\n",
       "      <td>NONE</td>\n",
       "    </tr>\n",
       "    <tr>\n",
       "      <th>2</th>\n",
       "      <td>Java developer</td>\n",
       "      <td>Pune</td>\n",
       "      <td>Maharashtra</td>\n",
       "      <td>Looking for a challenging career which demands...</td>\n",
       "      <td>{0: [{'wtitle:': 'Java Developer'}, {'wcompany...</td>\n",
       "      <td>{0: [{'e_title:': \"Bachelor's in Electrical En...</td>\n",
       "      <td>['ECLIPSE (1 year)', ' HIBERNATE', ' SPRING (L...</td>\n",
       "      <td>[]</td>\n",
       "      <td>{}</td>\n",
       "      <td>\\nTECHNICAL SKILLS \\n \\nFrameworks: Spring, Sp...</td>\n",
       "    </tr>\n",
       "    <tr>\n",
       "      <th>3</th>\n",
       "      <td>Seeking innovative and challenging career assi...</td>\n",
       "      <td>Pune</td>\n",
       "      <td>Maharashtra</td>\n",
       "      <td>NONE</td>\n",
       "      <td>{0: [{'wtitle:': 'Java Developer'}, {'wcompany...</td>\n",
       "      <td>{0: [{'e_title:': 'BE in Computer'}, {'e_schoo...</td>\n",
       "      <td>['GIT', ' Angular 7', ' MAVEN', ' Java', ' Jen...</td>\n",
       "      <td>[]</td>\n",
       "      <td>{}</td>\n",
       "      <td>NONE</td>\n",
       "    </tr>\n",
       "    <tr>\n",
       "      <th>4</th>\n",
       "      <td>NONE</td>\n",
       "      <td>Pune</td>\n",
       "      <td>Maharashtra</td>\n",
       "      <td>NONE</td>\n",
       "      <td>{0: [{'wtitle:': 'Java Developer'}, {'wcompany...</td>\n",
       "      <td>{0: [{'e_title:': 'Bachelor of Engineering in ...</td>\n",
       "      <td>['Project: HR Payroll Systems Role: Java Devel...</td>\n",
       "      <td>[]</td>\n",
       "      <td>{}</td>\n",
       "      <td>NONE</td>\n",
       "    </tr>\n",
       "  </tbody>\n",
       "</table>\n",
       "</div>"
      ],
      "text/plain": [
       "                                        Resume_title       City         State  \\\n",
       "0                                     Java Developer      Tirur        Kerala   \n",
       "1                                 Software Developer  Bengaluru     Karnataka   \n",
       "2                                     Java developer       Pune   Maharashtra   \n",
       "3  Seeking innovative and challenging career assi...       Pune   Maharashtra   \n",
       "4                                               NONE       Pune   Maharashtra   \n",
       "\n",
       "                                         Description  \\\n",
       "0  To prove myself dedicated, worthy and energeti...   \n",
       "1  Working as Software Developer at IngroInfo Sof...   \n",
       "2  Looking for a challenging career which demands...   \n",
       "3                                               NONE   \n",
       "4                                               NONE   \n",
       "\n",
       "                                    work_experiences  \\\n",
       "0  {0: [{'wtitle:': 'Java Developer'}, {'wcompany...   \n",
       "1  {0: [{'wtitle:': 'JAVA DEVELOPER'}, {'wcompany...   \n",
       "2  {0: [{'wtitle:': 'Java Developer'}, {'wcompany...   \n",
       "3  {0: [{'wtitle:': 'Java Developer'}, {'wcompany...   \n",
       "4  {0: [{'wtitle:': 'Java Developer'}, {'wcompany...   \n",
       "\n",
       "                                          Educations  \\\n",
       "0  {0: [{'e_title:': \"Bachelor's in Bachelor of C...   \n",
       "1  {0: [{'e_title:': 'MCA in Master of Computer A...   \n",
       "2  {0: [{'e_title:': \"Bachelor's in Electrical En...   \n",
       "3  {0: [{'e_title:': 'BE in Computer'}, {'e_schoo...   \n",
       "4  {0: [{'e_title:': 'Bachelor of Engineering in ...   \n",
       "\n",
       "                                              Skills  \\\n",
       "0  ['Java (Less than 1 year)', ' Jsp (Less than 1...   \n",
       "1  ['Programming Languages: Core Java', ' J2EE \\n...   \n",
       "2  ['ECLIPSE (1 year)', ' HIBERNATE', ' SPRING (L...   \n",
       "3  ['GIT', ' Angular 7', ' MAVEN', ' Java', ' Jen...   \n",
       "4  ['Project: HR Payroll Systems Role: Java Devel...   \n",
       "\n",
       "                                               Links  \\\n",
       "0  ['https://www.linkedin.com/in/mohamed-rihan-k-...   \n",
       "1  ['http://github.com/NK-PATEL/Train_Project', '...   \n",
       "2                                                 []   \n",
       "3                                                 []   \n",
       "4                                                 []   \n",
       "\n",
       "                                        Certificates  \\\n",
       "0  {0: [{'c_title:': 'Java Developer'}, {'c_durat...   \n",
       "1                                                 {}   \n",
       "2                                                 {}   \n",
       "3                                                 {}   \n",
       "4                                                 {}   \n",
       "\n",
       "                              Additional Information  \n",
       "0  \\nTechnical Expertise \\n• Operating Systems: W...  \n",
       "1                                               NONE  \n",
       "2  \\nTECHNICAL SKILLS \\n \\nFrameworks: Spring, Sp...  \n",
       "3                                               NONE  \n",
       "4                                               NONE  "
      ]
     },
     "execution_count": 7,
     "metadata": {},
     "output_type": "execute_result"
    }
   ],
   "source": [
    "data = pd.read_csv('../raw_data/resume_data.csv')\n",
    "data.head()"
   ]
  },
  {
   "cell_type": "code",
   "execution_count": null,
   "id": "changing-router",
   "metadata": {},
   "outputs": [],
   "source": []
  },
  {
   "cell_type": "code",
   "execution_count": null,
   "id": "medieval-vacuum",
   "metadata": {},
   "outputs": [],
   "source": []
  }
 ],
 "metadata": {
  "kernelspec": {
   "display_name": "Python 3",
   "language": "python",
   "name": "python3"
  },
  "language_info": {
   "codemirror_mode": {
    "name": "ipython",
    "version": 3
   },
   "file_extension": ".py",
   "mimetype": "text/x-python",
   "name": "python",
   "nbconvert_exporter": "python",
   "pygments_lexer": "ipython3",
   "version": "3.8.5"
  },
  "toc": {
   "base_numbering": 1,
   "nav_menu": {},
   "number_sections": true,
   "sideBar": true,
   "skip_h1_title": false,
   "title_cell": "Table of Contents",
   "title_sidebar": "Contents",
   "toc_cell": false,
   "toc_position": {},
   "toc_section_display": true,
   "toc_window_display": false
  },
  "varInspector": {
   "cols": {
    "lenName": 16,
    "lenType": 16,
    "lenVar": 40
   },
   "kernels_config": {
    "python": {
     "delete_cmd_postfix": "",
     "delete_cmd_prefix": "del ",
     "library": "var_list.py",
     "varRefreshCmd": "print(var_dic_list())"
    },
    "r": {
     "delete_cmd_postfix": ") ",
     "delete_cmd_prefix": "rm(",
     "library": "var_list.r",
     "varRefreshCmd": "cat(var_dic_list()) "
    }
   },
   "types_to_exclude": [
    "module",
    "function",
    "builtin_function_or_method",
    "instance",
    "_Feature"
   ],
   "window_display": false
  }
 },
 "nbformat": 4,
 "nbformat_minor": 5
}
